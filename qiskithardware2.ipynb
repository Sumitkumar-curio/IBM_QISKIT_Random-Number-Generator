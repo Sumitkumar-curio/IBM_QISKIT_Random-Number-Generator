{
 "cells": [
  {
   "cell_type": "code",
   "execution_count": 1,
   "metadata": {},
   "outputs": [],
   "source": [
    "from qiskit import QuantumRegister, ClassicalRegister, QuantumCircuit, transpile\n",
    "from qiskit_ibm_runtime import QiskitRuntimeService, Session, Sampler\n",
    "import numpy as np\n",
    "from qiskit.transpiler.preset_passmanagers import generate_preset_pass_manager\n"
   ]
  },
  {
   "cell_type": "code",
   "execution_count": 2,
   "metadata": {},
   "outputs": [],
   "source": [
    "def initialize_service(api_token):\n",
    "    QiskitRuntimeService.save_account(channel=\"ibm_quantum\", token=\"deed0480b9f0aa55dcba0e6b87e880978deecf31964257d1b986d4968f4e4b980ef0b38c131d93bdde5f8b1648b48a986db7e6f02f3d15dd7f1289b7f147e2ba\", overwrite=True)\n",
    "    service = QiskitRuntimeService()\n",
    "    return service"
   ]
  },
  {
   "cell_type": "code",
   "execution_count": 16,
   "metadata": {},
   "outputs": [],
   "source": [
    "# Quantum Random Bit Generator using IBM Hardware\n",
    "def generate_random_bits_hardware(api_token, qubits=100, shots=1000):\n",
    "    # Initialize service\n",
    "    service = initialize_service(api_token)\n",
    "    \n",
    "    # Select real quantum backend (for example, 'ibmq_montreal' or 'ibmq_brisbane')\n",
    "    backend = service.backend(\"ibm_brisbane\")\n",
    "\n",
    "    \n",
    "    # Create quantum and classical registers\n",
    "    q = QuantumRegister(qubits, 'q')\n",
    "    c = ClassicalRegister(qubits, 'c')\n",
    "    circ = QuantumCircuit(qubits)\n",
    "    \n",
    "    # Apply Hadamard gate to all qubits to create superposition\n",
    "    for i in range(qubits):\n",
    "        circ.h(q[i])\n",
    "    \n",
    "    # Measure all qubits\n",
    "    circ.measure_all()\n",
    "\n",
    "    # Transpile the circuit for the backend\n",
    "    compiled_circuit = transpile(circ, backend)\n",
    "    \n",
    "    # Initialize sampler and run the job on the selected backend\n",
    "    sampler = Sampler(backend)\n",
    "\n",
    "    pm = generate_preset_pass_manager(optimization_level=3, backend=backend)\n",
    "    isa = pm.run(circ)\n",
    "\n",
    "    pub = (isa)\n",
    "    job = sampler.run([pub], shots=shots)\n",
    "    \n",
    "    # Get the result\n",
    "    result = job.result()\n",
    "    \n",
    "    # Extract counts and convert to binary digits\n",
    "    counts = result[0].data.meas.get_counts()\n",
    "    \n",
    "    \n",
    "    # Generate random bits from the counts\n",
    "    random_bits = []\n",
    "    for key in counts:\n",
    "        random_bits.extend([key] * int(counts[key] * shots))\n",
    "    \n",
    "    return ''.join(random_bits)"
   ]
  },
  {
   "cell_type": "code",
   "execution_count": 17,
   "metadata": {},
   "outputs": [
    {
     "name": "stdout",
     "output_type": "stream",
     "text": [
      "Generated 100,000 random bits and saved to 'quantum_random_bits_100000.txt'.\n"
     ]
    }
   ],
   "source": [
    "# Main function to generate 100,000 binary digits\n",
    "def main():\n",
    "    api_token = \"deed0480b9f0aa55dcba0e6b87e880978deecf31964257d1b986d4968f4e4b980ef0b38c131d93bdde5f8b1648b48a986db7e6f02f3d15dd7f1289b7f147e2ba\"  # Replace with your IBM Quantum API token\n",
    "    required_bits = 100000\n",
    "    total_bits = []\n",
    "    \n",
    "    # Generate random bits in batches until we reach 100,000 bits\n",
    "    while len(total_bits) < required_bits:\n",
    "        new_bits = generate_random_bits_hardware(api_token, qubits=100, shots=1000)\n",
    "        total_bits.extend(new_bits)\n",
    "    \n",
    "    # Truncate to exactly 100,000 bits\n",
    "    total_bits = total_bits[:required_bits]\n",
    "    \n",
    "    # Save the random bits to a file\n",
    "    with open('quantum_random_bits_100000.txt', 'w') as f:\n",
    "        f.write(''.join(total_bits))\n",
    "    \n",
    "    print(f\"Generated 100,000 random bits and saved to 'quantum_random_bits_100000.txt'.\")\n",
    "\n",
    "# Execute the main function\n",
    "if __name__ == \"__main__\":\n",
    "    main()"
   ]
  },
  {
   "cell_type": "code",
   "execution_count": null,
   "metadata": {},
   "outputs": [],
   "source": []
  }
 ],
 "metadata": {
  "kernelspec": {
   "display_name": "Python 3",
   "language": "python",
   "name": "python3"
  },
  "language_info": {
   "codemirror_mode": {
    "name": "ipython",
    "version": 3
   },
   "file_extension": ".py",
   "mimetype": "text/x-python",
   "name": "python",
   "nbconvert_exporter": "python",
   "pygments_lexer": "ipython3",
   "version": "3.12.2"
  }
 },
 "nbformat": 4,
 "nbformat_minor": 2
}
