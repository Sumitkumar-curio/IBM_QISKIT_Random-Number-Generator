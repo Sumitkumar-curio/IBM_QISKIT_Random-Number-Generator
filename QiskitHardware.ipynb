{
 "cells": [
  {
   "cell_type": "code",
   "execution_count": 1,
   "metadata": {},
   "outputs": [],
   "source": [
    "from qiskit_ibm_runtime import QiskitRuntimeService\n",
    "QiskitRuntimeService.save_account(channel=\"ibm_quantum\", token=\"deed0480b9f0aa55dcba0e6b87e880978deecf31964257d1b986d4968f4e4b980ef0b38c131d93bdde5f8b1648b48a986db7e6f02f3d15dd7f1289b7f147e2ba\", overwrite=True)\n"
   ]
  },
  {
   "cell_type": "code",
   "execution_count": 3,
   "metadata": {},
   "outputs": [],
   "source": [
    "from qiskit_ibm_runtime import QiskitRuntimeService\n",
    "\n",
    "# Set up the IBM Quantum service with your saved account or token\n",
    "service = QiskitRuntimeService()\n",
    "\n",
    "# Specify the backend directly\n",
    "backend = service.backend(\"ibm_sherbrooke\")  # Replace with available backend like 'ibmq_kyiv' if it's accessible\n"
   ]
  },
  {
   "cell_type": "markdown",
   "metadata": {},
   "source": []
  },
  {
   "cell_type": "code",
   "execution_count": 4,
   "metadata": {},
   "outputs": [],
   "source": [
    "from qiskit_ibm_runtime import QiskitRuntimeService, SamplerV2 as Sampler"
   ]
  },
  {
   "cell_type": "code",
   "execution_count": 1,
   "metadata": {},
   "outputs": [
    {
     "ename": "NameError",
     "evalue": "name 'Sampler' is not defined",
     "output_type": "error",
     "traceback": [
      "\u001b[1;31m---------------------------------------------------------------------------\u001b[0m",
      "\u001b[1;31mNameError\u001b[0m                                 Traceback (most recent call last)",
      "Cell \u001b[1;32mIn[1], line 3\u001b[0m\n\u001b[0;32m      1\u001b[0m \u001b[38;5;28;01mfrom\u001b[39;00m \u001b[38;5;21;01mqiskit\u001b[39;00m \u001b[38;5;28;01mimport\u001b[39;00m QuantumCircuit, transpile\n\u001b[0;32m      2\u001b[0m \u001b[38;5;66;03m#from qiskit_ibm_runtime import job_monitor\u001b[39;00m\n\u001b[1;32m----> 3\u001b[0m sampler \u001b[38;5;241m=\u001b[39m \u001b[43mSampler\u001b[49m(backend)\n",
      "\u001b[1;31mNameError\u001b[0m: name 'Sampler' is not defined"
     ]
    }
   ],
   "source": [
    "\n",
    "from qiskit import QuantumCircuit, transpile\n",
    "#from qiskit_ibm_runtime import job_monitor\n",
    "sampler = Sampler(backend)"
   ]
  },
  {
   "cell_type": "code",
   "execution_count": 6,
   "metadata": {},
   "outputs": [],
   "source": [
    "# Create the quantum circuit\n",
    "circuit = QuantumCircuit(5, 5)\n",
    "for qubit in range(5):\n",
    "    circuit.h(qubit)  # Apply Hadamard gate\n",
    "circuit.measure(range(5), range(5))\n",
    "\n",
    "compiled_circuit = transpile(circuit, backend)"
   ]
  },
  {
   "cell_type": "code",
   "execution_count": 8,
   "metadata": {},
   "outputs": [
    {
     "ename": "TypeError",
     "evalue": "SamplerV2.run() got an unexpected keyword argument 'circuits'",
     "output_type": "error",
     "traceback": [
      "\u001b[1;31m---------------------------------------------------------------------------\u001b[0m",
      "\u001b[1;31mTypeError\u001b[0m                                 Traceback (most recent call last)",
      "Cell \u001b[1;32mIn[8], line 14\u001b[0m\n\u001b[0;32m     11\u001b[0m sampler \u001b[38;5;241m=\u001b[39m Sampler(backend)\n\u001b[0;32m     13\u001b[0m \u001b[38;5;66;03m# Run the circuit on the selected backend\u001b[39;00m\n\u001b[1;32m---> 14\u001b[0m job \u001b[38;5;241m=\u001b[39m \u001b[43msampler\u001b[49m\u001b[38;5;241;43m.\u001b[39;49m\u001b[43mrun\u001b[49m\u001b[43m(\u001b[49m\u001b[43mcircuits\u001b[49m\u001b[38;5;241;43m=\u001b[39;49m\u001b[43m[\u001b[49m\u001b[43mcompiled_circuit\u001b[49m\u001b[43m]\u001b[49m\u001b[43m,\u001b[49m\u001b[43m \u001b[49m\u001b[43mshots\u001b[49m\u001b[38;5;241;43m=\u001b[39;49m\u001b[38;5;241;43m20000\u001b[39;49m\u001b[43m)\u001b[49m\n\u001b[0;32m     16\u001b[0m \u001b[38;5;66;03m# Monitor the job progress (uncomment if job_monitor works in your environment)\u001b[39;00m\n\u001b[0;32m     17\u001b[0m \u001b[38;5;66;03m# from qiskit.tools.monitor import job_monitor\u001b[39;00m\n\u001b[0;32m     18\u001b[0m \u001b[38;5;66;03m# job_monitor(job)\u001b[39;00m\n\u001b[0;32m     19\u001b[0m \n\u001b[0;32m     20\u001b[0m \u001b[38;5;66;03m# Get the results\u001b[39;00m\n\u001b[0;32m     21\u001b[0m result \u001b[38;5;241m=\u001b[39m job\u001b[38;5;241m.\u001b[39mresult()\n",
      "\u001b[1;31mTypeError\u001b[0m: SamplerV2.run() got an unexpected keyword argument 'circuits'"
     ]
    }
   ],
   "source": [
    "# Create quantum circuit\n",
    "circuit = QuantumCircuit(5, 5)\n",
    "for qubit in range(5):\n",
    "    circuit.h(qubit)  # Apply Hadamard gate to create superposition\n",
    "circuit.measure(range(5), range(5))  # Measure all qubits\n",
    "\n",
    "# Transpile the circuit for the selected backend\n",
    "compiled_circuit = transpile(circuit, backend)\n",
    "\n",
    "# Initialize the Sampler\n",
    "sampler = Sampler(backend)\n",
    "\n",
    "# Run the circuit on the selected backend\n",
    "job = sampler.run(circuits=[compiled_circuit], shots=20000)\n",
    "\n",
    "# Monitor the job progress (uncomment if job_monitor works in your environment)\n",
    "# from qiskit.tools.monitor import job_monitor\n",
    "# job_monitor(job)\n",
    "\n",
    "# Get the results\n",
    "result = job.result()\n",
    "\n",
    "# Extract counts directly\n",
    "counts = result.quasi_dists[0].binary_probabilities()\n",
    "\n",
    "# Generate random bits from the counts\n",
    "random_bits = []\n",
    "for key in counts:\n",
    "    random_bits.extend([key] * int(counts[key] * 20000))  # Convert probabilities to actual counts\n",
    "\n",
    "# Combine into a single string of random bits\n",
    "combined_bits = ''.join(random_bits)\n",
    "\n",
    "# Output random bit sequence and summary\n",
    "print(f\"Total random bits generated: {len(combined_bits)}\")\n",
    "print(f\"First 100000 bits: {combined_bits[:100000]}\")"
   ]
  },
  {
   "cell_type": "code",
   "execution_count": null,
   "metadata": {},
   "outputs": [],
   "source": []
  }
 ],
 "metadata": {
  "kernelspec": {
   "display_name": "Python 3",
   "language": "python",
   "name": "python3"
  },
  "language_info": {
   "codemirror_mode": {
    "name": "ipython",
    "version": 3
   },
   "file_extension": ".py",
   "mimetype": "text/x-python",
   "name": "python",
   "nbconvert_exporter": "python",
   "pygments_lexer": "ipython3",
   "version": "3.12.2"
  }
 },
 "nbformat": 4,
 "nbformat_minor": 2
}
