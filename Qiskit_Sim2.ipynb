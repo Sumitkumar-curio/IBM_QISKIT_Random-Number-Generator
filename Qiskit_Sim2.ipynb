{
 "cells": [
  {
   "cell_type": "code",
   "execution_count": 10,
   "metadata": {},
   "outputs": [
    {
     "name": "stdout",
     "output_type": "stream",
     "text": [
      "Available backends: [<IBMBackend('ibm_brisbane')>, <IBMBackend('ibm_kyiv')>, <IBMBackend('ibm_sherbrooke')>]\n",
      "Selected backend: <IBMBackend('ibm_brisbane')>\n"
     ]
    },
    {
     "ename": "ValueError",
     "evalue": "A backend or session must be specified.",
     "output_type": "error",
     "traceback": [
      "\u001b[1;31m---------------------------------------------------------------------------\u001b[0m",
      "\u001b[1;31mValueError\u001b[0m                                Traceback (most recent call last)",
      "Cell \u001b[1;32mIn[10], line 30\u001b[0m\n\u001b[0;32m     27\u001b[0m compiled_circuit \u001b[38;5;241m=\u001b[39m transpile(circuit, backend)\n\u001b[0;32m     29\u001b[0m \u001b[38;5;66;03m# Initialize the Sampler\u001b[39;00m\n\u001b[1;32m---> 30\u001b[0m sampler \u001b[38;5;241m=\u001b[39m \u001b[43mSampler\u001b[49m\u001b[43m(\u001b[49m\u001b[43m)\u001b[49m\n\u001b[0;32m     32\u001b[0m \u001b[38;5;66;03m# Run the circuit on the selected backend with 1000 shots\u001b[39;00m\n\u001b[0;32m     33\u001b[0m job \u001b[38;5;241m=\u001b[39m sampler\u001b[38;5;241m.\u001b[39mrun(circuits\u001b[38;5;241m=\u001b[39m[compiled_circuit], backend\u001b[38;5;241m=\u001b[39mbackend, shots\u001b[38;5;241m=\u001b[39m\u001b[38;5;241m1000\u001b[39m)\n",
      "File \u001b[1;32mc:\\Users\\sumit\\miniconda3\\envs\\cwa\\Lib\\site-packages\\qiskit_ibm_runtime\\sampler.py:99\u001b[0m, in \u001b[0;36mSamplerV2.__init__\u001b[1;34m(self, mode, options)\u001b[0m\n\u001b[0;32m     90\u001b[0m \u001b[38;5;28;01mif\u001b[39;00m \u001b[38;5;28misinstance\u001b[39m(mode, \u001b[38;5;28mstr\u001b[39m):\n\u001b[0;32m     91\u001b[0m     issue_deprecation_msg(\n\u001b[0;32m     92\u001b[0m         msg\u001b[38;5;241m=\u001b[39m\u001b[38;5;124m\"\u001b[39m\u001b[38;5;124mPassing a backend as a string is deprecated\u001b[39m\u001b[38;5;124m\"\u001b[39m,\n\u001b[0;32m     93\u001b[0m         version\u001b[38;5;241m=\u001b[39m\u001b[38;5;124m\"\u001b[39m\u001b[38;5;124m0.26.0\u001b[39m\u001b[38;5;124m\"\u001b[39m,\n\u001b[1;32m   (...)\u001b[0m\n\u001b[0;32m     96\u001b[0m         stacklevel\u001b[38;5;241m=\u001b[39m\u001b[38;5;241m2\u001b[39m,\n\u001b[0;32m     97\u001b[0m     )\n\u001b[1;32m---> 99\u001b[0m \u001b[43mBasePrimitiveV2\u001b[49m\u001b[38;5;241;43m.\u001b[39;49m\u001b[38;5;21;43m__init__\u001b[39;49m\u001b[43m(\u001b[49m\u001b[38;5;28;43mself\u001b[39;49m\u001b[43m,\u001b[49m\u001b[43m \u001b[49m\u001b[43mmode\u001b[49m\u001b[38;5;241;43m=\u001b[39;49m\u001b[43mmode\u001b[49m\u001b[43m,\u001b[49m\u001b[43m \u001b[49m\u001b[43moptions\u001b[49m\u001b[38;5;241;43m=\u001b[39;49m\u001b[43moptions\u001b[49m\u001b[43m)\u001b[49m\n",
      "File \u001b[1;32mc:\\Users\\sumit\\miniconda3\\envs\\cwa\\Lib\\site-packages\\qiskit_ibm_runtime\\base_primitive.py:153\u001b[0m, in \u001b[0;36mBasePrimitiveV2.__init__\u001b[1;34m(self, mode, options)\u001b[0m\n\u001b[0;32m    132\u001b[0m \u001b[38;5;28;01mdef\u001b[39;00m \u001b[38;5;21m__init__\u001b[39m(\n\u001b[0;32m    133\u001b[0m     \u001b[38;5;28mself\u001b[39m,\n\u001b[0;32m    134\u001b[0m     mode: Optional[Union[BackendV1, BackendV2, Session, Batch, \u001b[38;5;28mstr\u001b[39m]] \u001b[38;5;241m=\u001b[39m \u001b[38;5;28;01mNone\u001b[39;00m,\n\u001b[0;32m    135\u001b[0m     options: Optional[Union[Dict, OptionsT]] \u001b[38;5;241m=\u001b[39m \u001b[38;5;28;01mNone\u001b[39;00m,\n\u001b[0;32m    136\u001b[0m ):\n\u001b[0;32m    137\u001b[0m \u001b[38;5;250m    \u001b[39m\u001b[38;5;124;03m\"\"\"Initializes the primitive.\u001b[39;00m\n\u001b[0;32m    138\u001b[0m \n\u001b[0;32m    139\u001b[0m \u001b[38;5;124;03m    Args:\u001b[39;00m\n\u001b[1;32m   (...)\u001b[0m\n\u001b[0;32m    151\u001b[0m \u001b[38;5;124;03m        ValueError: Invalid arguments are given.\u001b[39;00m\n\u001b[0;32m    152\u001b[0m \u001b[38;5;124;03m    \"\"\"\u001b[39;00m\n\u001b[1;32m--> 153\u001b[0m     \u001b[38;5;28mself\u001b[39m\u001b[38;5;241m.\u001b[39m_mode, \u001b[38;5;28mself\u001b[39m\u001b[38;5;241m.\u001b[39m_service, \u001b[38;5;28mself\u001b[39m\u001b[38;5;241m.\u001b[39m_backend \u001b[38;5;241m=\u001b[39m \u001b[43m_get_mode_service_backend\u001b[49m\u001b[43m(\u001b[49m\u001b[43mmode\u001b[49m\u001b[43m)\u001b[49m\n\u001b[0;32m    154\u001b[0m     \u001b[38;5;28mself\u001b[39m\u001b[38;5;241m.\u001b[39m_set_options(options)\n",
      "File \u001b[1;32mc:\\Users\\sumit\\miniconda3\\envs\\cwa\\Lib\\site-packages\\qiskit_ibm_runtime\\base_primitive.py:123\u001b[0m, in \u001b[0;36m_get_mode_service_backend\u001b[1;34m(mode)\u001b[0m\n\u001b[0;32m    121\u001b[0m     \u001b[38;5;28;01mreturn\u001b[39;00m mode, service, backend  \u001b[38;5;66;03m# type: ignore\u001b[39;00m\n\u001b[0;32m    122\u001b[0m \u001b[38;5;28;01melse\u001b[39;00m:\n\u001b[1;32m--> 123\u001b[0m     \u001b[38;5;28;01mraise\u001b[39;00m \u001b[38;5;167;01mValueError\u001b[39;00m(\u001b[38;5;124m\"\u001b[39m\u001b[38;5;124mA backend or session must be specified.\u001b[39m\u001b[38;5;124m\"\u001b[39m)\n",
      "\u001b[1;31mValueError\u001b[0m: A backend or session must be specified."
     ]
    }
   ],
   "source": [
    "# Import necessary libraries\n",
    "from qiskit_ibm_runtime import QiskitRuntimeService, Sampler\n",
    "from qiskit import QuantumCircuit, transpile\n",
    "\n",
    "# Set up IBM Quantum service using the saved account token\n",
    "service = QiskitRuntimeService()\n",
    "\n",
    "# List available backends to ensure you are using a valid one\n",
    "backends = service.backends()\n",
    "print(\"Available backends:\", backends)\n",
    "\n",
    "# Use the least busy backend that supports at least 100 qubits (adjust if needed)\n",
    "backend = service.least_busy(operational=True, simulator=False, min_num_qubits=100)\n",
    "print(f\"Selected backend: {backend}\")\n",
    "\n",
    "# Create a quantum circuit with 100 qubits and 100 classical bits\n",
    "circuit = QuantumCircuit(100, 100)\n",
    "\n",
    "# Apply Hadamard gate to all qubits to create superposition\n",
    "for qubit in range(100):\n",
    "    circuit.h(qubit)\n",
    "\n",
    "# Measure all qubits\n",
    "circuit.measure(range(100), range(100))\n",
    "\n",
    "# Transpile the circuit for the selected backend\n",
    "compiled_circuit = transpile(circuit, backend)\n",
    "\n",
    "# Initialize the Sampler\n",
    "sampler = Sampler()\n",
    "\n",
    "# Run the circuit on the selected backend with 1000 shots\n",
    "job = sampler.run(circuits=[compiled_circuit], backend=backend, shots=1000)\n",
    "\n",
    "# Wait for the job to complete and get the results\n",
    "result = job.result()\n",
    "\n",
    "# Extract quasi-distributions (probabilities of measurement outcomes)\n",
    "counts = result.quasi_dists[0].binary_probabilities()\n",
    "\n",
    "# Generate random bits based on the measurement outcomes\n",
    "random_bits = []\n",
    "for key in counts:\n",
    "    # Convert probabilities to counts and generate random bits\n",
    "    random_bits.extend([key] * int(counts[key] * 1000))\n",
    "\n",
    "# Combine into a single string of random bits\n",
    "combined_bits = ''.join(random_bits)\n",
    "\n",
    "# Output random bit sequence and summary\n",
    "print(f\"Total random bits generated: {len(combined_bits)}\")\n",
    "print(f\"First 100000 bits: {combined_bits[:100000]}\")\n"
   ]
  },
  {
   "cell_type": "code",
   "execution_count": null,
   "metadata": {},
   "outputs": [],
   "source": []
  }
 ],
 "metadata": {
  "kernelspec": {
   "display_name": "Python 3",
   "language": "python",
   "name": "python3"
  },
  "language_info": {
   "codemirror_mode": {
    "name": "ipython",
    "version": 3
   },
   "file_extension": ".py",
   "mimetype": "text/x-python",
   "name": "python",
   "nbconvert_exporter": "python",
   "pygments_lexer": "ipython3",
   "version": "3.12.2"
  }
 },
 "nbformat": 4,
 "nbformat_minor": 2
}
